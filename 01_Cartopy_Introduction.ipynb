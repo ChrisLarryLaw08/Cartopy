{
 "cells": [
  {
   "cell_type": "markdown",
   "metadata": {},
   "source": [
    "### This notebook demonstrates drawing maps with Cartopy.\n",
    "#### Reference:  <a href=\"https://scitools.org.uk/cartopy/docs/latest/\">Cartopy Documentation</a>"
   ]
  },
  {
   "cell_type": "code",
   "execution_count": null,
   "metadata": {},
   "outputs": [],
   "source": [
    "import matplotlib.pyplot as plt\n",
    "from cartopy import crs as ccrs\n",
    "from cartopy import feature as cfeat\n",
    "from cartopy import util as cu"
   ]
  },
  {
   "cell_type": "markdown",
   "metadata": {},
   "source": [
    "### Instead of using %matplotlib inline, we'll use %matplotlib notebook which will allow us to see each cell's influence on the resulting plot!"
   ]
  },
  {
   "cell_type": "code",
   "execution_count": null,
   "metadata": {},
   "outputs": [],
   "source": [
    "%matplotlib notebook"
   ]
  },
  {
   "cell_type": "markdown",
   "metadata": {},
   "source": [
    "### Create a figure and an associated subplot `axes` instance.\n",
    "#### By virtue of importing Cartopy, we can now convert the `axes` into a `GeoAxes` by specifying a projection that we have imported from *Cartopy's Coordinate Reference System* class as `ccrs`. This will effectively *georeference* the subplot."
   ]
  },
  {
   "cell_type": "markdown",
   "metadata": {},
   "source": [
    "#### Full list of projections in Cartopy: https://scitools.org.uk/cartopy/docs/latest/crs/projections.html "
   ]
  },
  {
   "cell_type": "code",
   "execution_count": null,
   "metadata": {},
   "outputs": [],
   "source": [
    "fig = plt.figure(figsize=(11,8.5))\n",
    "# Create a GeoAxes that uses the PlateCarree projection \n",
    "# (basically a global lat-lon map projection, where each point is equally spaced in terms of degrees)\n",
    "ax = plt.subplot(1,1,1,projection=ccrs.PlateCarree(central_longitude=-75))"
   ]
  },
  {
   "cell_type": "markdown",
   "metadata": {},
   "source": [
    "### We can tell that \"something\" has happened since when we mouse over the figure bounds above, we can see latitudes and longitudes displayed below the figure. We can now add in cartographic features, in the form of *shapefiles*, to our subplot. One of them is `coastlines`, which is a callable `GeoAxes` method that can be plotted directly on our subplot."
   ]
  },
  {
   "cell_type": "code",
   "execution_count": null,
   "metadata": {},
   "outputs": [],
   "source": [
    "ax.coastlines()"
   ]
  },
  {
   "cell_type": "markdown",
   "metadata": {},
   "source": [
    "### Cartopy provides other cartographic features via its `features` class, which we've imported as `cfeat`. These are also shapefiles, downloaded on initial request from http://www.naturalearthdata.com/ . Once downloaded, they \"live\" in your `~/.local/share/cartopy` directory."
   ]
  },
  {
   "cell_type": "markdown",
   "metadata": {},
   "source": [
    "#### We add them to our subplot via the `add_feature` method. We can define attributes for them in a manner similar to Matplotlib's `plot` method. A list of the various Natural Earth shapefiles appears in https://scitools.org.uk/cartopy/docs/latest/matplotlib/feature_interface.html ."
   ]
  },
  {
   "cell_type": "code",
   "execution_count": null,
   "metadata": {},
   "outputs": [],
   "source": [
    "ax.add_feature(cfeat.BORDERS,linewidth=0.5,edgecolor='black')"
   ]
  },
  {
   "cell_type": "code",
   "execution_count": null,
   "metadata": {},
   "outputs": [],
   "source": [
    "ax.add_feature (cfeat.STATES,linewidth=0.3,edgecolor='brown')"
   ]
  },
  {
   "cell_type": "markdown",
   "metadata": {},
   "source": [
    "### Let's now visualize maps with some different projections. This time, we'll define an object to store our projection definition.\n",
    "#### Reference: <a href=\"https://scitools.org.uk/cartopy/docs/latest/crs/projections.html\">Cartopy Projections</a>"
   ]
  },
  {
   "cell_type": "code",
   "execution_count": null,
   "metadata": {},
   "outputs": [],
   "source": [
    "fig = plt.figure(figsize=(11,8.5))\n",
    "# Mollweide projection (often used with global satellite mosaics)\n",
    "proj=ccrs.Mollweide(central_longitude=0)\n",
    "ax = plt.subplot(1,1,1,projection=proj)"
   ]
  },
  {
   "cell_type": "code",
   "execution_count": null,
   "metadata": {},
   "outputs": [],
   "source": [
    "# Add in the cartographic shapefiles\n",
    "ax.coastlines()\n",
    "ax.add_feature(cfeat.BORDERS,linewidth=0.5,edgecolor='blue')"
   ]
  },
  {
   "cell_type": "markdown",
   "metadata": {},
   "source": [
    "### Add a fancy background image to the map."
   ]
  },
  {
   "cell_type": "code",
   "execution_count": null,
   "metadata": {},
   "outputs": [],
   "source": [
    "ax.stock_img()"
   ]
  },
  {
   "cell_type": "markdown",
   "metadata": {},
   "source": [
    "### Now, let's go back to PlateCarree, but let's use Cartopy's `set_extent` method to restrict the map coverage to a North American view. Let's also choose a lower resolution for coastlines, just to illustrate how one can specify that. Give a title to the map, and plot lat/lon lines as well."
   ]
  },
  {
   "cell_type": "markdown",
   "metadata": {},
   "source": [
    "#### We'll also switch back to having Matplotlib figures display inline."
   ]
  },
  {
   "cell_type": "code",
   "execution_count": null,
   "metadata": {},
   "outputs": [],
   "source": [
    "%matplotlib inline"
   ]
  },
  {
   "cell_type": "code",
   "execution_count": null,
   "metadata": {},
   "outputs": [],
   "source": [
    "proj=ccrs.PlateCarree()\n",
    "lonW = -140\n",
    "lonE = -40\n",
    "latS = 15\n",
    "latN = 65\n",
    "cLat = (latN + latS)/2\n",
    "cLon = (lonW + lonE )/2\n",
    "res = '110m' # Options are 10m, 50m, and 110m. Higher numbers mean lower resolution."
   ]
  },
  {
   "cell_type": "code",
   "execution_count": null,
   "metadata": {
    "scrolled": true
   },
   "outputs": [],
   "source": [
    "fig = plt.figure(figsize=(11,8.5))\n",
    "ax = plt.subplot(1,1,1,projection=proj)\n",
    "ax.set_title('Plate Carree')\n",
    "gl = ax.gridlines(draw_labels=True,\n",
    "                  linewidth=2, color='gray', alpha=0.5, linestyle='--')\n",
    "ax.set_extent ([lonW,lonE,latS,latN])\n",
    "ax.coastlines(resolution=res, color='black')\n",
    "ax.add_feature (cfeat.STATES,linewidth=0.3,edgecolor='brown')\n",
    "ax.add_feature(cfeat.BORDERS,linewidth=0.5,edgecolor='blue')"
   ]
  },
  {
   "cell_type": "markdown",
   "metadata": {},
   "source": [
    "#### Did you notice the output above the map about *cartopy.mpl.feature_artist*? We can eliminate that in one of two ways:\n",
    "1. Use a generic object name, `_`, to assign that last feature to.\n",
    "2. Add a semicolon at the end of the last line in the cell."
   ]
  },
  {
   "cell_type": "markdown",
   "metadata": {},
   "source": [
    "#### The PlateCarree projection exaggerates the spatial extent of regions closer to the poles. Let's try a couple different projections. "
   ]
  },
  {
   "cell_type": "code",
   "execution_count": null,
   "metadata": {
    "scrolled": true
   },
   "outputs": [],
   "source": [
    "proj = ccrs.Stereographic(central_longitude=cLon, central_latitude=cLat)\n",
    "fig = plt.figure(figsize=(11,8.5))\n",
    "ax = plt.subplot(1,1,1,projection=proj)\n",
    "ax.set_title('Stereographic')\n",
    "gl = ax.gridlines(draw_labels=True,\n",
    "                  linewidth=2, color='gray', alpha=0.5, linestyle='--')\n",
    "ax.set_extent ([lonW,lonE,latS,latN])\n",
    "ax.coastlines(resolution='110m', color='black')\n",
    "ax.add_feature (cfeat.STATES,linewidth=0.3,edgecolor='brown')\n",
    "# Use generic object name to suppress text output to the screen\n",
    "_ = ax.add_feature(cfeat.BORDERS,linewidth=0.5,edgecolor='blue')\n"
   ]
  },
  {
   "cell_type": "code",
   "execution_count": null,
   "metadata": {
    "scrolled": true
   },
   "outputs": [],
   "source": [
    "proj = ccrs.LambertConformal(central_longitude=cLon, central_latitude=cLat)\n",
    "fig = plt.figure(figsize=(11,8.5))\n",
    "ax = plt.subplot(1,1,1,projection=proj)\n",
    "ax.set_title('Lambert Conformal')\n",
    "gl = ax.gridlines(draw_labels=True,\n",
    "                  linewidth=2, color='gray', alpha=0.5, linestyle='--')\n",
    "ax.set_extent ([lonW,lonE,latS,latN])\n",
    "ax.coastlines(resolution='110m', color='black')\n",
    "ax.add_feature (cfeat.STATES,linewidth=0.3,edgecolor='brown')\n",
    "# End last line with a semicolon to suppress text output to the screen\n",
    "ax.add_feature(cfeat.BORDERS,linewidth=0.5,edgecolor='blue');"
   ]
  },
  {
   "cell_type": "code",
   "execution_count": null,
   "metadata": {
    "scrolled": true
   },
   "outputs": [],
   "source": [
    "proj = ccrs.LambertConformal(central_longitude=cLon, central_latitude=cLat)\n",
    "fig = plt.figure(figsize=(11,8.5))\n",
    "ax = plt.subplot(1,1,1,projection=proj)\n",
    "ax.set_title('Lambert Conformal')\n",
    "gl = ax.gridlines(draw_labels=True,\n",
    "                  linewidth=2, color='gray', alpha=0.5, linestyle='--')\n",
    "ax.set_extent ([lonW,lonE,latS,latN])\n",
    "ax.coastlines(resolution='110m', color='black')\n",
    "ax.add_feature (cfeat.STATES,linewidth=0.3,edgecolor='brown')\n",
    "# End last line with a semicolon to suppress text output to the screen\n",
    "ax.add_feature(cfeat.BORDERS,linewidth=0.5,edgecolor='blue');"
   ]
  },
  {
   "cell_type": "markdown",
   "metadata": {},
   "source": [
    "### Create a regional map, centered over New York State and add in some more Natural Earth geographic features.\n",
    "#### <b>Be patient: this may take some time to plot (even a few minutes), especially if you haven't previously retreived these features from the Natural Earth shapefile server!</b>"
   ]
  },
  {
   "cell_type": "code",
   "execution_count": null,
   "metadata": {},
   "outputs": [],
   "source": [
    "# Set the domain for defining the plot region.\n",
    "latN = 45.2\n",
    "latS = 40.2\n",
    "lonW = -80.0\n",
    "lonE = -71.5\n",
    "cLat = (latN + latS)/2\n",
    "cLon = (lonW + lonE )/2\n",
    "\n",
    "proj = ccrs.LambertConformal(central_longitude=cLon, central_latitude=cLat)\n",
    "fig = plt.figure(figsize=(15,10))\n",
    "ax = plt.subplot(1,1,1,projection=proj)\n",
    "ax.set_extent ([lonW,lonE,latS,latN])\n",
    "ax.add_feature (cfeat.LAND)\n",
    "ax.add_feature (cfeat.OCEAN)\n",
    "ax.add_feature(cfeat.COASTLINE)\n",
    "ax.add_feature (cfeat.BORDERS, linestyle='--')\n",
    "ax.add_feature (cfeat.LAKES, alpha = 0.5)\n",
    "ax.add_feature (cfeat.STATES);"
   ]
  },
  {
   "cell_type": "markdown",
   "metadata": {},
   "source": [
    "### Let's create a new map, but this time use lower-resolution shapefiles from Natural Earth, and also eliminate plotting the country borders.\n",
    "### Notice this is a bit more involved. First we create objects for our lower-resolution shapefiles via the `NaturalEarthFeature` method from Cartopy's `feature` class, and then we add them to the map with `add_feature`."
   ]
  },
  {
   "cell_type": "code",
   "execution_count": null,
   "metadata": {},
   "outputs": [],
   "source": [
    "# Set the domain for defining the plot region.\n",
    "latN = 45.2\n",
    "latS = 40.2\n",
    "lonW = -80.0\n",
    "lonE = -71.5\n",
    "cLat = (latN + latS)/2\n",
    "cLon = (lonW + lonE )/2\n",
    "\n",
    "proj = ccrs.LambertConformal(central_longitude=cLon, central_latitude=cLat)\n",
    "\n",
    "fig = plt.figure(figsize=(15,10))\n",
    "ax = plt.subplot(1,1,1,projection=proj)\n",
    "ax.set_extent ((lonW,lonE,latS,latN))\n",
    "\n",
    "# The features with names such as cfeat.LAND, cfeat.OCEAN, are higher-resolution (10m) shapefiles from the\n",
    "# Naturalearth repository.  Lower resolution shapefiles (50m, 110m) can be used by using the cfeat.NaturalEarthFeature\n",
    "# method as illustrated below.\n",
    "\n",
    "resolution = '110m'\n",
    "\n",
    "land_mask = cfeat.NaturalEarthFeature('physical', 'land', scale=resolution,\n",
    "                                        edgecolor='face',\n",
    "                                        facecolor=cfeat.COLORS['land'])\n",
    "sea_mask = cfeat.NaturalEarthFeature('physical', 'ocean', scale=resolution,\n",
    "                                        edgecolor='face',\n",
    "                                        facecolor=cfeat.COLORS['water'])\n",
    "lake_mask = cfeat.NaturalEarthFeature('physical', 'lakes', scale=resolution,\n",
    "                                        edgecolor='face',\n",
    "                                        facecolor=cfeat.COLORS['water'])\n",
    "state_borders = cfeat.NaturalEarthFeature(category='cultural', name='admin_1_states_provinces_lakes',\n",
    "                                         scale=resolution, facecolor='none')\n",
    "\n",
    "ax.add_feature(land_mask)\n",
    "ax.add_feature(sea_mask)\n",
    "ax.add_feature(lake_mask)\n",
    "ax.add_feature(state_borders, linestyle='solid', edgecolor='black')"
   ]
  },
  {
   "cell_type": "markdown",
   "metadata": {},
   "source": [
    "### Finally, let's create a figure with two subplots. On one, we'll repeat our hi-res NYS map; on the second, we'll plot over a different part of the world."
   ]
  },
  {
   "cell_type": "code",
   "execution_count": null,
   "metadata": {},
   "outputs": [],
   "source": [
    "# Create the figure object\n",
    "fig = plt.figure(figsize=(30,24)) # Notice we need a bigger \"canvas\" so these two maps will be of a decent size\n",
    "\n",
    "# Set the domain for defining the first plot region.\n",
    "latN = 45.2\n",
    "latS = 40.2\n",
    "lonW = -80.0\n",
    "lonE = -71.5\n",
    "cLat = (latN + latS)/2\n",
    "cLon = (lonW + lonE )/2\n",
    "\n",
    "proj = ccrs.LambertConformal(central_longitude=cLon, central_latitude=cLat)\n",
    "\n",
    "# First subplot\n",
    "ax = plt.subplot(2,1,1,projection=proj)\n",
    "ax.set_extent ([lonW,lonE,latS,latN])\n",
    "ax.add_feature (cfeat.LAND)\n",
    "ax.add_feature (cfeat.OCEAN)\n",
    "ax.add_feature(cfeat.COASTLINE)\n",
    "ax.add_feature (cfeat.BORDERS, linestyle='--')\n",
    "ax.add_feature (cfeat.LAKES, alpha = 0.5)\n",
    "ax.add_feature (cfeat.STATES);\n",
    "\n",
    "# Set the domain for defining the second plot region.\n",
    "latN = 70\n",
    "latS = 30.2\n",
    "lonW = -10\n",
    "lonE = 50\n",
    "cLat = (latN + latS)/2\n",
    "cLon = (lonW + lonE )/2\n",
    "\n",
    "proj = ccrs.LambertConformal(central_longitude=cLon, central_latitude=cLat)\n",
    "\n",
    "# Second subplot\n",
    "ax2 = plt.subplot(2,1,2,projection=proj)\n",
    "ax2.set_extent ([lonW,lonE,latS,latN])\n",
    "ax2.add_feature (cfeat.LAND)\n",
    "ax2.add_feature (cfeat.OCEAN)\n",
    "ax2.add_feature(cfeat.COASTLINE)\n",
    "ax2.add_feature (cfeat.BORDERS, linestyle='--')\n",
    "ax2.add_feature (cfeat.LAKES, alpha = 0.5)\n",
    "ax2.add_feature (cfeat.STATES);"
   ]
  },
  {
   "cell_type": "markdown",
   "metadata": {},
   "source": [
    "### In the next notebook, we'll use Cartopy and Matplotlib's `scatterplot` and `text` methods to plot meteorological data."
   ]
  }
 ],
 "metadata": {
  "kernelspec": {
   "display_name": "Python 3 June 2020 Environment",
   "language": "python",
   "name": "jun20"
  },
  "language_info": {
   "codemirror_mode": {
    "name": "ipython",
    "version": 3
   },
   "file_extension": ".py",
   "mimetype": "text/x-python",
   "name": "python",
   "nbconvert_exporter": "python",
   "pygments_lexer": "ipython3",
   "version": "3.7.6"
  }
 },
 "nbformat": 4,
 "nbformat_minor": 2
}
